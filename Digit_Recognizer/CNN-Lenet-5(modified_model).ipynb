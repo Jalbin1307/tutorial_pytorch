{
 "cells": [
  {
   "cell_type": "code",
   "execution_count": 1,
   "id": "050a233b",
   "metadata": {},
   "outputs": [
    {
     "name": "stdout",
     "output_type": "stream",
     "text": [
      "['test.csv', 'train.csv', 'sample_submission.csv']\n"
     ]
    }
   ],
   "source": [
    "import numpy as np\n",
    "import pandas as pd\n",
    "import matplotlib.pyplot as plt\n",
    "\n",
    "import os\n",
    "print(os.listdir(\"../input/digit-recognizer\"))"
   ]
  },
  {
   "cell_type": "code",
   "execution_count": 2,
   "id": "2b2252df",
   "metadata": {},
   "outputs": [],
   "source": [
    "import torch\n",
    "import torch.nn as nn\n",
    "from torch.autograd import Variable\n",
    "from torch.utils.data import DataLoader\n",
    "import pandas as pd\n",
    "from sklearn.model_selection import train_test_split\n",
    "from torchsummary import summary"
   ]
  },
  {
   "cell_type": "code",
   "execution_count": 3,
   "id": "37ec7da9",
   "metadata": {},
   "outputs": [
    {
     "data": {
      "image/png": "[encoded data removed]",
      "text/plain": [
       "<Figure size 432x288 with 1 Axes>"
      ]
     },
     "metadata": {
      "needs_background": "light"
     },
     "output_type": "display_data"
    }
   ],
   "source": [
    "# load data\n",
    "train = pd.read_csv(r\"../input/digit-recognizer/train.csv\", dtype=np.float32)\n",
    "\n",
    "# split data into features(pixels) and labels(numbers from 0 to 9)\n",
    "targets_numpy = train.label.values\n",
    "features_numpy = train.loc[:,train.columns != \"label\"].values/255\n",
    "\n",
    "# train test split\n",
    "features_train, features_test, targets_train, targets_test = train_test_split(features_numpy,\n",
    "                                                                             targets_numpy,\n",
    "                                                                             test_size=0.2,\n",
    "                                                                             random_state=42)\n",
    "\n",
    "# create feature and targets tensor for train set\n",
    "featuresTrain = torch.from_numpy(features_train)\n",
    "targetsTrain = torch.from_numpy(targets_train).type(torch.LongTensor)  # data type is long\n",
    "\n",
    "# create feature and targets tensor for test set.\n",
    "featuresTest = torch.from_numpy(features_test)\n",
    "targetsTest = torch.from_numpy(targets_test).type(torch.LongTensor)\n",
    "\n",
    "# batch size, epoch and iteration\n",
    "batch_size = 100\n",
    "n_iters = 10000\n",
    "num_epochs = n_iters / (len(features_train) / batch_size)\n",
    "num_epochs = int(num_epochs)\n",
    "\n",
    "# Pytorch train and test sets\n",
    "train = torch.utils.data.TensorDataset(featuresTrain, targetsTrain)\n",
    "test = torch.utils.data.TensorDataset(featuresTest, targetsTest)\n",
    "\n",
    "# data loader\n",
    "train_loader = DataLoader(train, batch_size = batch_size, shuffle = False)\n",
    "test_loader = DataLoader(test, batch_size = batch_size, shuffle = False)\n",
    "\n",
    "# visualize one of the images in data set\n",
    "plt.imshow(features_numpy[0].reshape(28,28))\n",
    "plt.axis(\"off\")\n",
    "plt.title(str(targets_numpy[0]))\n",
    "plt.savefig('graph.png')\n",
    "plt.show()"
   ]
  },
  {
   "cell_type": "code",
   "execution_count": 4,
   "id": "d1f9435e",
   "metadata": {},
   "outputs": [],
   "source": [
    "class CNNModel(nn.Module):\n",
    "    def __init__(self):\n",
    "        super(CNNModel, self).__init__()\n",
    "        \n",
    "        # Convolution 1\n",
    "        self.cnn1 = nn.Conv2d(in_channels=1, out_channels=16, kernel_size=5, stride=1, padding=0)\n",
    "        self.relu1 = nn.ReLU()\n",
    "    \n",
    "        # Convolution 2\n",
    "        self.cnn2 = nn.Conv2d(in_channels=16, out_channels=32, kernel_size=5, stride=1, padding=0)\n",
    "        \n",
    "        # BatchNormalization 1 \n",
    "        self.batch1 = nn.BatchNorm2d(32)\n",
    "        self.relu2 = nn.ReLU()\n",
    "        \n",
    "        # Max pool 1\n",
    "        self.maxpool1 = nn.MaxPool2d(kernel_size=2, stride=2)\n",
    "        \n",
    "        # Dropout\n",
    "        self.drop1 = nn.Dropout(p=0.25)\n",
    "        \n",
    "        # Convolution 3\n",
    "        self.cnn3 = nn.Conv2d(in_channels=32, out_channels=64, kernel_size=3, stride=1, padding=0)\n",
    "        \n",
    "        # Convolution 4 - BatchNormalization 2\n",
    "        self.cnn4 = nn.Conv2d(in_channels=64, out_channels=64, kernel_size=3, stride=1, padding=0)\n",
    "        self.batch2 = nn.BatchNorm2d(64)\n",
    "        self.relu3 = nn.ReLU()\n",
    "        \n",
    "        # Max pool 2\n",
    "        self.maxpool2 = nn.MaxPool2d(kernel_size=2, stride=2)\n",
    "        \n",
    "        # Dropout 2\n",
    "        self.drop2 = nn.Dropout(p=0.25)\n",
    "        \n",
    "        \n",
    "        # Fully connected 1\n",
    "        self.fc1 = nn.Linear(64 * 3 * 3, 256)\n",
    "        self.batch3 = nn.BatchNorm1d(256)\n",
    "        self.relu4 = nn.ReLU()\n",
    "        \n",
    "        # Fully connected 2\n",
    "        self.fc2 = nn.Linear(256, 128)\n",
    "        self.batch4 = nn.BatchNorm1d(128)\n",
    "        self.relu5 = nn.ReLU()\n",
    "        \n",
    "        # Fully connected 3\n",
    "        self.fc3 = nn.Linear(128,84)\n",
    "        self.batch5 = nn.BatchNorm1d(84)\n",
    "        self.relu6 = nn.ReLU()\n",
    "        self.drop2 = nn.Dropout(p=0.25)\n",
    "        \n",
    "        # Fully connected 4\n",
    "        self.fc4 = nn.Linear(84, 10)\n",
    "        \n",
    "    \n",
    "    def forward(self, x):\n",
    "        # Convolution 1\n",
    "        out = self.cnn1(x)\n",
    "        out = self.relu1(out)\n",
    "        \n",
    "        # Convolution 2 \n",
    "        out = self.cnn2(out)\n",
    "        \n",
    "        # BatchNormalization 1\n",
    "        out = self.batch1(out)\n",
    "        out = self.relu2(out)\n",
    "        \n",
    "        # Max pool 1\n",
    "        out = self.maxpool1(out)\n",
    "        \n",
    "        # Dropout\n",
    "        out = self.drop1(out)\n",
    "\n",
    "        # Convolution 3\n",
    "        out = self.cnn3(out)\n",
    "        \n",
    "        # Convolution 4 - BatchNormalization 2\n",
    "        out = self.cnn4(out)\n",
    "        out = self.batch2(out)\n",
    "        out = self.relu3(out)\n",
    "        \n",
    "        # Max pool 2\n",
    "        out = self.maxpool2(out)\n",
    "        \n",
    "        # Dropout 2\n",
    "        out = self.drop2(out)\n",
    "        \n",
    "        # flatten\n",
    "        out = out.view(out.size(0), -1)\n",
    "\n",
    "        \n",
    "        out = self.fc1(out)\n",
    "        out = self.batch3(out)\n",
    "        out = self.relu4(out)\n",
    "        \n",
    "        out = self.fc2(out)\n",
    "        out = self.batch4(out)\n",
    "        out = self.relu5(out)\n",
    "        \n",
    "        out = self.fc3(out)\n",
    "        out = self.batch5(out)\n",
    "        out = self.relu6(out)\n",
    "        \n",
    "        # Linear function (readout)\n",
    "        out = self.fc4(out)\n",
    "        \n",
    "\n",
    "        \n",
    "        return out\n",
    "    \n"
   ]
  },
  {
   "cell_type": "code",
   "execution_count": 5,
   "id": "2eced936",
   "metadata": {},
   "outputs": [],
   "source": [
    "batch_size = 100\n",
    "n_iters = 2500\n",
    "num_epochs = n_iters / (len(features_train) / batch_size)\n",
    "num_epochs = int(num_epochs)\n",
    "num_epochs = 50\n",
    "\n",
    "\n",
    "train = torch.utils.data.TensorDataset(featuresTrain,targetsTrain)\n",
    "test = torch.utils.data.TensorDataset(featuresTest,targetsTest)\n",
    "\n",
    "train_loader = torch.utils.data.DataLoader(train, batch_size = batch_size, shuffle = False)\n",
    "test_loader = torch.utils.data.DataLoader(test, batch_size = batch_size, shuffle = False)\n",
    "\n",
    "\n",
    "model = CNNModel()\n",
    "\n",
    "error = nn.CrossEntropyLoss()\n",
    "\n",
    "learning_rate = 0.1\n",
    "optimizer = torch.optim.SGD(model.parameters(), lr=learning_rate)"
   ]
  },
  {
   "cell_type": "code",
   "execution_count": 6,
   "id": "9d6ab622",
   "metadata": {},
   "outputs": [
    {
     "name": "stdout",
     "output_type": "stream",
     "text": [
      "----------------------------------------------------------------\n",
      "        Layer (type)               Output Shape         Param #\n",
      "================================================================\n",
      "            Conv2d-1           [-1, 16, 24, 24]             416\n",
      "              ReLU-2           [-1, 16, 24, 24]               0\n",
      "            Conv2d-3           [-1, 32, 20, 20]          12,832\n",
      "       BatchNorm2d-4           [-1, 32, 20, 20]              64\n",
      "              ReLU-5           [-1, 32, 20, 20]               0\n",
      "         MaxPool2d-6           [-1, 32, 10, 10]               0\n",
      "           Dropout-7           [-1, 32, 10, 10]               0\n",
      "            Conv2d-8             [-1, 64, 8, 8]          18,496\n",
      "            Conv2d-9             [-1, 64, 6, 6]          36,928\n",
      "      BatchNorm2d-10             [-1, 64, 6, 6]             128\n",
      "             ReLU-11             [-1, 64, 6, 6]               0\n",
      "        MaxPool2d-12             [-1, 64, 3, 3]               0\n",
      "          Dropout-13             [-1, 64, 3, 3]               0\n",
      "           Linear-14                  [-1, 256]         147,712\n",
      "      BatchNorm1d-15                  [-1, 256]             512\n",
      "             ReLU-16                  [-1, 256]               0\n",
      "           Linear-17                  [-1, 128]          32,896\n",
      "      BatchNorm1d-18                  [-1, 128]             256\n",
      "             ReLU-19                  [-1, 128]               0\n",
      "           Linear-20                   [-1, 84]          10,836\n",
      "      BatchNorm1d-21                   [-1, 84]             168\n",
      "             ReLU-22                   [-1, 84]               0\n",
      "           Linear-23                   [-1, 10]             850\n",
      "================================================================\n",
      "Total params: 262,094\n",
      "Trainable params: 262,094\n",
      "Non-trainable params: 0\n",
      "----------------------------------------------------------------\n",
      "Input size (MB): 0.00\n",
      "Forward/backward pass size (MB): 0.59\n",
      "Params size (MB): 1.00\n",
      "Estimated Total Size (MB): 1.59\n",
      "----------------------------------------------------------------\n"
     ]
    },
    {
     "name": "stderr",
     "output_type": "stream",
     "text": [
      "/Users/hongjin-u/opt/anaconda3/envs/Pytorch/lib/python3.7/site-packages/torch/nn/functional.py:718: UserWarning: Named tensors and all their associated APIs are an experimental feature and subject to change. Please do not use them for anything important until they are released as stable. (Triggered internally at  /Users/distiller/project/conda/conda-bld/pytorch_1623459064158/work/c10/core/TensorImpl.h:1156.)\n",
      "  return torch.max_pool2d(input, kernel_size, stride, padding, dilation, ceil_mode)\n"
     ]
    }
   ],
   "source": [
    "summary(model, (1,28,28))"
   ]
  },
  {
   "cell_type": "code",
   "execution_count": 102,
   "id": "351ed1e9",
   "metadata": {},
   "outputs": [
    {
     "name": "stdout",
     "output_type": "stream",
     "text": [
      "Iteration: 500  Loss: 0.062164172530174255  Accuracy: 97.47618865966797 %\n",
      "Iteration: 1000  Loss: 0.05731787160038948  Accuracy: 98.44047546386719 %\n",
      "Iteration: 1500  Loss: 0.007407953031361103  Accuracy: 98.52381134033203 %\n",
      "Iteration: 2000  Loss: 0.021668460220098495  Accuracy: 98.42857360839844 %\n",
      "Iteration: 2500  Loss: 0.08942211419343948  Accuracy: 98.58333587646484 %\n",
      "Iteration: 3000  Loss: 0.004172531422227621  Accuracy: 98.66666412353516 %\n",
      "Iteration: 3500  Loss: 0.041095126420259476  Accuracy: 98.76190185546875 %\n",
      "Iteration: 4000  Loss: 0.01143832877278328  Accuracy: 98.83333587646484 %\n",
      "Iteration: 4500  Loss: 0.00893883965909481  Accuracy: 98.89286041259766 %\n",
      "Iteration: 5000  Loss: 0.04528636485338211  Accuracy: 98.98809814453125 %\n",
      "Iteration: 5500  Loss: 0.0053772227838635445  Accuracy: 98.91666412353516 %\n",
      "Iteration: 6000  Loss: 0.029183099046349525  Accuracy: 98.88095092773438 %\n",
      "Iteration: 6500  Loss: 0.008047240786254406  Accuracy: 99.05952453613281 %\n",
      "Iteration: 7000  Loss: 0.002357174176722765  Accuracy: 99.02381134033203 %\n",
      "Iteration: 7500  Loss: 0.0026807391550391912  Accuracy: 98.89286041259766 %\n",
      "Iteration: 8000  Loss: 0.106194868683815  Accuracy: 98.88095092773438 %\n",
      "Iteration: 8500  Loss: 0.0005661143804900348  Accuracy: 98.83333587646484 %\n",
      "Iteration: 9000  Loss: 0.003766655223444104  Accuracy: 99.0952377319336 %\n",
      "Iteration: 9500  Loss: 0.0035477494820952415  Accuracy: 99.04762268066406 %\n",
      "Iteration: 10000  Loss: 0.0016723100561648607  Accuracy: 98.95237731933594 %\n",
      "Iteration: 10500  Loss: 0.00046088904491625726  Accuracy: 98.97618865966797 %\n",
      "Iteration: 11000  Loss: 0.0008450808236375451  Accuracy: 99.04762268066406 %\n",
      "Iteration: 11500  Loss: 0.0003051787498407066  Accuracy: 98.97618865966797 %\n",
      "Iteration: 12000  Loss: 0.0018960307352244854  Accuracy: 99.03571319580078 %\n",
      "Iteration: 12500  Loss: 0.010936674661934376  Accuracy: 98.95237731933594 %\n",
      "Iteration: 13000  Loss: 0.0031843672040849924  Accuracy: 98.89286041259766 %\n",
      "Iteration: 13500  Loss: 0.0010778557043522596  Accuracy: 99.0952377319336 %\n",
      "Iteration: 14000  Loss: 0.00455401511862874  Accuracy: 99.08333587646484 %\n",
      "Iteration: 14500  Loss: 0.0012811385095119476  Accuracy: 99.11904907226562 %\n",
      "Iteration: 15000  Loss: 0.0036225540097802877  Accuracy: 99.08333587646484 %\n",
      "Iteration: 15500  Loss: 0.0005070672486908734  Accuracy: 99.03571319580078 %\n",
      "Iteration: 16000  Loss: 0.0004193232161924243  Accuracy: 99.02381134033203 %\n",
      "Iteration: 16500  Loss: 0.015504056587815285  Accuracy: 99.05952453613281 %\n"
     ]
    }
   ],
   "source": [
    "count = 0\n",
    "loss_list = []\n",
    "iteration_list = []\n",
    "accuracy_list = []\n",
    "for epoch in range(num_epochs):\n",
    "    for i, (images, labels) in enumerate(train_loader):\n",
    "        \n",
    "        train = Variable(images.view(100,1,28,28))\n",
    "        labels = Variable(labels)\n",
    "        \n",
    "        # Clear gradients\n",
    "        optimizer.zero_grad()\n",
    "        \n",
    "        # Forward propagation\n",
    "        outputs = model(train)\n",
    "        \n",
    "        # Calculate softmax and ross entropy loss\n",
    "        loss = error(outputs, labels)\n",
    "        \n",
    "        # Calculating gradients\n",
    "        loss.backward()\n",
    "        \n",
    "        # Update parameters\n",
    "        optimizer.step()\n",
    "        \n",
    "        count += 1\n",
    "        \n",
    "        if count % 50 == 0:\n",
    "            # Calculate Accuracy         \n",
    "            correct = 0\n",
    "            total = 0\n",
    "            # Iterate through test dataset\n",
    "            for images, labels in test_loader:\n",
    "                \n",
    "                test = Variable(images.view(100,1,28,28))\n",
    "                \n",
    "                # Forward propagation\n",
    "                outputs = model(test)\n",
    "                \n",
    "                # Get predictions from the maximum value\n",
    "                predicted = torch.max(outputs.data, 1)[1]\n",
    "                \n",
    "                # Total number of labels\n",
    "                total += len(labels)\n",
    "                \n",
    "                correct += (predicted == labels).sum()\n",
    "            \n",
    "            accuracy = 100 * correct / float(total)\n",
    "            \n",
    "            # store loss and iteration\n",
    "            loss_list.append(loss.data)\n",
    "            iteration_list.append(count)\n",
    "            accuracy_list.append(accuracy)\n",
    "        if count % 500 == 0:\n",
    "            # Print Loss\n",
    "            print('Iteration: {}  Loss: {}  Accuracy: {} %'.format(count, loss.data, accuracy))"
   ]
  },
  {
   "cell_type": "code",
   "execution_count": 103,
   "id": "efddac7b",
   "metadata": {
    "scrolled": true
   },
   "outputs": [
    {
     "data": {
      "image/png": "[encoded data removed]",
      "text/plain": [
       "<Figure size 432x288 with 1 Axes>"
      ]
     },
     "metadata": {
      "needs_background": "light"
     },
     "output_type": "display_data"
    },
    {
     "data": {
      "image/png": "[encoded data removed]",
      "text/plain": [
       "<Figure size 432x288 with 1 Axes>"
      ]
     },
     "metadata": {
      "needs_background": "light"
     },
     "output_type": "display_data"
    }
   ],
   "source": [
    "# visualization loss \n",
    "plt.plot(iteration_list,loss_list)\n",
    "plt.xlabel(\"Number of iteration\")\n",
    "plt.ylabel(\"Loss\")\n",
    "plt.title(\"CNN: Loss vs Number of iteration\")\n",
    "plt.show()\n",
    "\n",
    "# visualization accuracy \n",
    "plt.plot(iteration_list,accuracy_list,color = \"red\")\n",
    "plt.xlabel(\"Number of iteration\")\n",
    "plt.ylabel(\"Accuracy\")\n",
    "plt.title(\"CNN: Accuracy vs Number of iteration\")\n",
    "plt.show()"
   ]
  },
  {
   "cell_type": "code",
   "execution_count": 104,
   "id": "177f34ae",
   "metadata": {},
   "outputs": [
    {
     "name": "stdout",
     "output_type": "stream",
     "text": [
      "save model state dict keys: \n",
      " odict_keys(['cnn1.weight', 'cnn1.bias', 'cnn2.weight', 'cnn2.bias', 'batch1.weight', 'batch1.bias', 'batch1.running_mean', 'batch1.running_var', 'batch1.num_batches_tracked', 'cnn3.weight', 'cnn3.bias', 'cnn4.weight', 'cnn4.bias', 'batch2.weight', 'batch2.bias', 'batch2.running_mean', 'batch2.running_var', 'batch2.num_batches_tracked', 'fc1.weight', 'fc1.bias', 'batch3.weight', 'batch3.bias', 'batch3.running_mean', 'batch3.running_var', 'batch3.num_batches_tracked', 'fc2.weight', 'fc2.bias', 'batch4.weight', 'batch4.bias', 'batch4.running_mean', 'batch4.running_var', 'batch4.num_batches_tracked', 'fc3.weight', 'fc3.bias', 'batch5.weight', 'batch5.bias', 'batch5.running_mean', 'batch5.running_var', 'batch5.num_batches_tracked', 'fc4.weight', 'fc4.bias'])\n"
     ]
    }
   ],
   "source": [
    "#save model\n",
    "print('save model state dict keys: \\n', model.state_dict().keys())\n",
    "torch.save(model.state_dict(), 'checkpoint.pth')"
   ]
  },
  {
   "cell_type": "code",
   "execution_count": 105,
   "id": "28144c0f",
   "metadata": {},
   "outputs": [
    {
     "name": "stdout",
     "output_type": "stream",
     "text": [
      "load model state dict keys: \n",
      " odict_keys(['cnn1.weight', 'cnn1.bias', 'cnn2.weight', 'cnn2.bias', 'batch1.weight', 'batch1.bias', 'batch1.running_mean', 'batch1.running_var', 'batch1.num_batches_tracked', 'cnn3.weight', 'cnn3.bias', 'cnn4.weight', 'cnn4.bias', 'batch2.weight', 'batch2.bias', 'batch2.running_mean', 'batch2.running_var', 'batch2.num_batches_tracked', 'fc1.weight', 'fc1.bias', 'batch3.weight', 'batch3.bias', 'batch3.running_mean', 'batch3.running_var', 'batch3.num_batches_tracked', 'fc2.weight', 'fc2.bias', 'batch4.weight', 'batch4.bias', 'batch4.running_mean', 'batch4.running_var', 'batch4.num_batches_tracked', 'fc3.weight', 'fc3.bias', 'batch5.weight', 'batch5.bias', 'batch5.running_mean', 'batch5.running_var', 'batch5.num_batches_tracked', 'fc4.weight', 'fc4.bias'])\n"
     ]
    }
   ],
   "source": [
    "# load model\n",
    "state_dict = torch.load('checkpoint.pth')\n",
    "print('load model state dict keys: \\n', model.state_dict().keys())"
   ]
  },
  {
   "cell_type": "code",
   "execution_count": 106,
   "id": "147cdf69",
   "metadata": {},
   "outputs": [
    {
     "name": "stdout",
     "output_type": "stream",
     "text": [
      "torch.Size([28000, 784])\n"
     ]
    }
   ],
   "source": [
    "# load test data\n",
    "new_test = pd.read_csv('../input/digit-recognizer/test.csv').values\n",
    "new_images = torch.from_numpy(new_test).type(torch.FloatTensor)/255\n",
    "print(new_images.shape)\n",
    "new_test_loader = DataLoader(new_images, batch_size=batch_size, shuffle=False)"
   ]
  },
  {
   "cell_type": "code",
   "execution_count": 107,
   "id": "8cbadb17",
   "metadata": {},
   "outputs": [
    {
     "name": "stdout",
     "output_type": "stream",
     "text": [
      "[2, 0, 9, 9, 3, 7, 0, 3, 0, 3]\n",
      "28000\n"
     ]
    }
   ],
   "source": [
    "results = []\n",
    "with torch.no_grad():\n",
    "    model.eval()\n",
    "    for images in new_test_loader:\n",
    "        images = Variable(images.view(batch_size,1,28,28))\n",
    "        outputs = model(images)\n",
    "        predict = torch.max(outputs.data, 1)[1]\n",
    "        results += predict.numpy().tolist()\n",
    "        \n",
    "print(results[:10])\n",
    "print(len(results))"
   ]
  },
  {
   "cell_type": "code",
   "execution_count": 108,
   "id": "b8834bad",
   "metadata": {},
   "outputs": [
    {
     "name": "stdout",
     "output_type": "stream",
     "text": [
      "[2 0 9 9 3 7 0 3 0 3]\n",
      "(28000,)\n"
     ]
    }
   ],
   "source": [
    "results = np.array(results).flatten()\n",
    "print(results[:10])\n",
    "print(results.shape)"
   ]
  },
  {
   "cell_type": "code",
   "execution_count": 109,
   "id": "2a7434dd",
   "metadata": {},
   "outputs": [
    {
     "name": "stdout",
     "output_type": "stream",
     "text": [
      "   ImageId  Label\n",
      "0        1      2\n",
      "1        2      0\n",
      "2        3      9\n",
      "3        4      9\n",
      "4        5      3\n",
      "5        6      7\n",
      "6        7      0\n",
      "7        8      3\n",
      "8        9      0\n",
      "9       10      3\n"
     ]
    }
   ],
   "source": [
    "submission = pd.DataFrame({'ImageId': list(range(1, len(results)+1)),\n",
    "                          'Label': results})\n",
    "submission.to_csv('submission.csv',index=False, header=True)\n",
    "print(submission[:10])"
   ]
  },
  {
   "cell_type": "code",
   "execution_count": null,
   "id": "359373f3",
   "metadata": {},
   "outputs": [],
   "source": []
  },
  {
   "cell_type": "code",
   "execution_count": null,
   "id": "01b5645b",
   "metadata": {},
   "outputs": [],
   "source": []
  }
 ],
 "metadata": {
  "kernelspec": {
   "display_name": "Python 3",
   "language": "python",
   "name": "python3"
  },
  "language_info": {
   "codemirror_mode": {
    "name": "ipython",
    "version": 3
   },
   "file_extension": ".py",
   "mimetype": "text/x-python",
   "name": "python",
   "nbconvert_exporter": "python",
   "pygments_lexer": "ipython3",
   "version": "3.7.10"
  }
 },
 "nbformat": 4,
 "nbformat_minor": 5
}
