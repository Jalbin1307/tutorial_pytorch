{
 "cells": [
  {
   "cell_type": "markdown",
   "id": "12659cec",
   "metadata": {},
   "source": [
    "PyTorch에서는 inference를 위해 모델을 저장하고 불러오는데 2가지 접근법이 있다. 첫번째는 ```state_dict```을 저장하고 불러오는 것이고, 두번째는 전체 모델을 저장하는 것이다."
   ]
  },
  {
   "cell_type": "markdown",
   "id": "18f01242",
   "metadata": {},
   "source": [
    "## 개요\n",
    "torch.save() 함수를 사용하여 모델의 ```state_dict```를 저장하면 이후에 모델을 불러올 때 유연함을 크게 살릴 수 있다. 학습된 모델의 매개변수(parameter)만을 저장하면되므로 모델 저장 시에 권장하는 방법이다. 모델 전체를 저장하고 불러올 때는 Python의 ```pickle```  모듈을 사용하여 전체 모듈을 저장한다. 이 방식의 단점은 직렬화(serialized)된 데이터가 모델을 저장할 때 사용한 특정 클래스 및 디렉토리 구조에 종속(bind)된다는 것이다. 그 이유는 pickle이 모델 클래스 자체를 저장하지 않기 때문이다. 오히려 불러올 때 사용되는 클래스가 포함된 파일의 경로를 저장한다. 이 때문에 작성한 코드가 다른 프로젝트에서 사용되거나 리팩토링을 거치는 등의 과정에서 동작하지 않을 수 있다. 이 레시피에서는 추론을 위해 모델을 저장하고 불러오는 두 가지 방법 모두를 살펴본다."
   ]
  },
  {
   "cell_type": "markdown",
   "id": "fd1a4eff",
   "metadata": {},
   "source": [
    "## 단계\n",
    "1. 데이터를 불러올 때 필요한 라이브러리들 불러오기\n",
    "2. 신경망을 구성하고 초기화하기\n",
    "3. 옵티마이저 초기화하기\n",
    "4. ```state_dict```을 통해 모델을 저장하고 불러오기\n",
    "5. 전체 모델을 저장하고 불러오기\n",
    "<br>\n",
    "\n",
    "### 1. 데이터를 불러올 때 필요한 라이브러리들 불러오기"
   ]
  },
  {
   "cell_type": "code",
   "execution_count": 1,
   "id": "1cec0c15",
   "metadata": {},
   "outputs": [],
   "source": [
    "import torch\n",
    "import torch.nn as nn\n",
    "import torch.optim as optim"
   ]
  },
  {
   "cell_type": "markdown",
   "id": "0c00dafb",
   "metadata": {},
   "source": [
    "### 2. 신경망을 구성하고 초기화하기"
   ]
  },
  {
   "cell_type": "code",
   "execution_count": 2,
   "id": "c14762fc",
   "metadata": {},
   "outputs": [
    {
     "name": "stdout",
     "output_type": "stream",
     "text": [
      "Net(\n",
      "  (conv1): Conv2d(3, 6, kernel_size=(5, 5), stride=(1, 1))\n",
      "  (pool): MaxPool2d(kernel_size=2, stride=2, padding=0, dilation=1, ceil_mode=False)\n",
      "  (conv2): Conv2d(6, 16, kernel_size=(5, 5), stride=(1, 1))\n",
      "  (fc1): Linear(in_features=400, out_features=120, bias=True)\n",
      "  (fc2): Linear(in_features=120, out_features=84, bias=True)\n",
      "  (fc3): Linear(in_features=84, out_features=10, bias=True)\n",
      ")\n"
     ]
    }
   ],
   "source": [
    "class  Net(nn.Module):\n",
    "    def __init__(self):\n",
    "        super(Net, self).__init__()\n",
    "        self.conv1 = nn.Conv2d(3, 6, 5)\n",
    "        self.pool = nn.MaxPool2d(2, 2)\n",
    "        self.conv2 = nn.Conv2d(6, 16, 5)\n",
    "        self.fc1 = nn.Linear(16 * 5 * 5, 120)\n",
    "        self.fc2 = nn.Linear(120, 84)\n",
    "        self.fc3 = nn.Linear(84, 10)\n",
    "        \n",
    "    def forward(self, x):\n",
    "        x = self.pool(F.relu(self.conv1(x)))\n",
    "        x = self.pool(F.relu(self.conv2(x)))\n",
    "        x = x.view(-1, 16 * 5 * 5)\n",
    "        x = F.relu(self.fc1(x))\n",
    "        x = F.relu(self.fc2(x))\n",
    "        x = self.fc3(x)\n",
    "        return x\n",
    "    \n",
    "net = Net()\n",
    "print(net)"
   ]
  },
  {
   "cell_type": "markdown",
   "id": "2724bfce",
   "metadata": {},
   "source": [
    "### 3. 옵티마이저 초기화하기\n",
    "모멤텀을 갖는 SGD를 사용"
   ]
  },
  {
   "cell_type": "code",
   "execution_count": 3,
   "id": "b9a2f915",
   "metadata": {},
   "outputs": [],
   "source": [
    "optimizer = optim.SGD(net.parameters(), lr=0.001, momentum=0.9)"
   ]
  },
  {
   "cell_type": "markdown",
   "id": "196b2641",
   "metadata": {},
   "source": [
    "### 4. ```state_dict```을 통해 모델을 저장하고 불러오기"
   ]
  },
  {
   "cell_type": "code",
   "execution_count": 4,
   "id": "9abaf691",
   "metadata": {},
   "outputs": [
    {
     "data": {
      "text/plain": [
       "Net(\n",
       "  (conv1): Conv2d(3, 6, kernel_size=(5, 5), stride=(1, 1))\n",
       "  (pool): MaxPool2d(kernel_size=2, stride=2, padding=0, dilation=1, ceil_mode=False)\n",
       "  (conv2): Conv2d(6, 16, kernel_size=(5, 5), stride=(1, 1))\n",
       "  (fc1): Linear(in_features=400, out_features=120, bias=True)\n",
       "  (fc2): Linear(in_features=120, out_features=84, bias=True)\n",
       "  (fc3): Linear(in_features=84, out_features=10, bias=True)\n",
       ")"
      ]
     },
     "execution_count": 4,
     "metadata": {},
     "output_type": "execute_result"
    }
   ],
   "source": [
    "# 경로 지정\n",
    "PATH = \"state_dict_model.pt\"\n",
    "\n",
    "# 저장하기\n",
    "torch.save(net.state_dict(), PATH)\n",
    "\n",
    "# 불러오기\n",
    "model = Net()\n",
    "model.load_state_dict(torch.load(PATH))\n",
    "model.eval()"
   ]
  },
  {
   "cell_type": "markdown",
   "id": "40f757e3",
   "metadata": {},
   "source": [
    "PyTorch 에서는 모델을 저장할 때 ```.pt``` 또는 ```.pth``` 확장자를 사용하는 것이 일반적인 규칙이다.<br>\n",
    "```load_state_dict()``` 함수는 저장된 객체의 경로가 아닌, 사전 객체를 사용. 즉 저장된 state_dict을 ```load_state_dict()``` 함수에 전달하기 전에 반드시 역직렬화(deserialize)를 해야한다. 예를 들어, ```model.load_state_dict(PATH)```와 같이 사용할 수 없다.\n",
    "<br><br>\n",
    "또한, 추론을 실행하기 전에 ```model.eval()```을 호출하여 드롭아웃(dropout)과 배치 정규화 층(batch normalization layers)을 평가(evaluation) 모드로 바꿔야한다."
   ]
  },
  {
   "cell_type": "markdown",
   "id": "d4269b65",
   "metadata": {},
   "source": [
    "### 5. 전체 모델을 저장하고 불러오기 "
   ]
  },
  {
   "cell_type": "code",
   "execution_count": 5,
   "id": "c5f81d7f",
   "metadata": {},
   "outputs": [
    {
     "data": {
      "text/plain": [
       "Net(\n",
       "  (conv1): Conv2d(3, 6, kernel_size=(5, 5), stride=(1, 1))\n",
       "  (pool): MaxPool2d(kernel_size=2, stride=2, padding=0, dilation=1, ceil_mode=False)\n",
       "  (conv2): Conv2d(6, 16, kernel_size=(5, 5), stride=(1, 1))\n",
       "  (fc1): Linear(in_features=400, out_features=120, bias=True)\n",
       "  (fc2): Linear(in_features=120, out_features=84, bias=True)\n",
       "  (fc3): Linear(in_features=84, out_features=10, bias=True)\n",
       ")"
      ]
     },
     "execution_count": 5,
     "metadata": {},
     "output_type": "execute_result"
    }
   ],
   "source": [
    "# 경로 지정\n",
    "PATH = \"entire_model.pt\"\n",
    "\n",
    "# 저장하기\n",
    "torch.save(net, PATH)\n",
    "\n",
    "# 불러오기\n",
    "model = torch.load(PATH)\n",
    "model.eval()"
   ]
  },
  {
   "cell_type": "markdown",
   "id": "198d3347",
   "metadata": {},
   "source": [
    "여기서도 model.eval()을 실행하여 드롭아웃과 배치 정규화 층을 평가 모드로 바꿔야한다."
   ]
  },
  {
   "cell_type": "code",
   "execution_count": null,
   "id": "f4c96d3f",
   "metadata": {},
   "outputs": [],
   "source": []
  }
 ],
 "metadata": {
  "kernelspec": {
   "display_name": "Python 3",
   "language": "python",
   "name": "python3"
  },
  "language_info": {
   "codemirror_mode": {
    "name": "ipython",
    "version": 3
   },
   "file_extension": ".py",
   "mimetype": "text/x-python",
   "name": "python",
   "nbconvert_exporter": "python",
   "pygments_lexer": "ipython3",
   "version": "3.7.10"
  }
 },
 "nbformat": 4,
 "nbformat_minor": 5
}
