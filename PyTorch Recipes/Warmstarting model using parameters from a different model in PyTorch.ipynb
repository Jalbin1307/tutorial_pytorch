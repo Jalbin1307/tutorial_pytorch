{
 "cells": [
  {
   "cell_type": "markdown",
   "id": "09ad003d",
   "metadata": {},
   "source": [
    "모델을 부분적으로 로딩하거나 부분 모델을 로딩하는 것은 새로운 복잡한 모델을 전이 학습하거나 학습할 때 일반적인 시나리오다. 소수의 매개 변수만 사용할 수 있더라도 학습된 파라미터들을 잘 활용하면 warmstart에 유용하게 쓰이며, 모델이 처음부터 학습하는 것보다 훨씬 빠르게 converge되는데 도움이 될 것입니다."
   ]
  },
  {
   "cell_type": "markdown",
   "id": "4a8821f2",
   "metadata": {},
   "source": [
    "## 개요\n",
    "일부 키가 없는 부분 ```state_dict```에서 로드하든, 로드 중인 모델보다 더 많은 키로 ```state_dict```을 로드하든 상관없이 ```load_state_dict()``` 함수에서 strict argument를 False로 설정하여 매칭되지않은 키를 무시할 수 있다. 이 레시피에서는, 다른 모델의 파라미터를 사용하여 모델을 warmstarting 하는 실험을 한다.\n"
   ]
  },
  {
   "cell_type": "markdown",
   "id": "fd54e028",
   "metadata": {},
   "source": [
    "## 단계\n",
    "1. 데이터를 불러올 때 필요한 라이브러리들 불러오기\n",
    "2. 신경망 A와 B를 정의\n",
    "3. 모델 A 저장\n",
    "4. 모델 B에 로드"
   ]
  },
  {
   "cell_type": "markdown",
   "id": "68d7e162",
   "metadata": {},
   "source": [
    "### 1. 데이터를 불러올 때 필요한 라이브러리들 불러오기"
   ]
  },
  {
   "cell_type": "code",
   "execution_count": 1,
   "id": "ded3e0c7",
   "metadata": {},
   "outputs": [],
   "source": [
    "import torch\n",
    "import torch.nn as nn\n",
    "import torch.optim as optim"
   ]
  },
  {
   "cell_type": "markdown",
   "id": "a6aae2f8",
   "metadata": {},
   "source": [
    "### 2. 신경망 A와 B를 정의"
   ]
  },
  {
   "cell_type": "code",
   "execution_count": 3,
   "id": "927fc5c2",
   "metadata": {},
   "outputs": [],
   "source": [
    "class NetA(nn.Module):\n",
    "    def __init__(self):\n",
    "        super(NetA, self).__init__()\n",
    "        self.conv1 = nn.Conv2d(3, 6, 5)\n",
    "        self.pool = nn.MaxPool2d(2, 2)\n",
    "        self.conv2 = nn.Conv2d(6, 16, 5)\n",
    "        self.fc1 = nn.Linear(16 * 5 * 5, 120)\n",
    "        self.fc2 = nn.Linear(120, 84)\n",
    "        self.fc3 = nn.Linear(84, 10)\n",
    "        \n",
    "    def forward(self, x):\n",
    "        x = self.pool(F.relu(self.conv1(x)))\n",
    "        x = self.pool(F.relu(self.conv2(x)))\n",
    "        x = x.view(-1, 16 * 5 * 5)\n",
    "        x = F.relu(self.fc1(x))\n",
    "        x = F.relu(self.fc2(x))\n",
    "        \n",
    "        return x\n",
    "    \n",
    "netA = NetA()\n",
    "\n",
    "class NetB(nn.Module):\n",
    "    def __init__(self):\n",
    "        super(NetB, self).__init__()\n",
    "        self.conv1 = nn.Conv2d(3, 6, 5)\n",
    "        self.pool = nn.MaxPool2d(2, 2)\n",
    "        self.conv2 = nn.Conv2d(6, 16, 5)\n",
    "        self.fc1 = nn.Linear(16 * 5 * 5, 120)\n",
    "        self.fc2 = nn.Linear(120, 84)\n",
    "        self.fc3 = nn.Linear(84, 10)\n",
    "        \n",
    "    def forward(self, x):\n",
    "        x = self.pool(F.relu(self.conv1(x)))\n",
    "        x = self.pool(F.relu(self.conv2(x)))\n",
    "        x = x.view(-1, 16 * 5 * 5)\n",
    "        x = F.relu(self.fc1(x))\n",
    "        x = F.relu(self.fc2(x))\n",
    "        x = self.fc3(x)\n",
    "        return x\n",
    "    \n",
    "netB = NetB()"
   ]
  },
  {
   "cell_type": "markdown",
   "id": "82354b2e",
   "metadata": {},
   "source": [
    "### 3. 모델 A 저장"
   ]
  },
  {
   "cell_type": "code",
   "execution_count": 4,
   "id": "3701a26f",
   "metadata": {},
   "outputs": [],
   "source": [
    "PATH = \"model.pt\"\n",
    "\n",
    "torch.save(netA.state_dict(), PATH)"
   ]
  },
  {
   "cell_type": "markdown",
   "id": "7bae5d2b",
   "metadata": {},
   "source": [
    "### 4. 모델 B에 로드\n",
    "한 layer에서 다른 layer로 파라미터를 로드하지만 일부 키가 일치하지 않는 경우 로드 중인 state_dict 매개변수 키 이름을 로드 중인 모델의 키와 일치하도록 변경하기만 하면 된다."
   ]
  },
  {
   "cell_type": "code",
   "execution_count": 5,
   "id": "5eec8f86",
   "metadata": {},
   "outputs": [
    {
     "data": {
      "text/plain": [
       "<All keys matched successfully>"
      ]
     },
     "execution_count": 5,
     "metadata": {},
     "output_type": "execute_result"
    }
   ],
   "source": [
    "netB.load_state_dict(torch.load(PATH), strict=False)"
   ]
  },
  {
   "cell_type": "code",
   "execution_count": null,
   "id": "e2409a71",
   "metadata": {},
   "outputs": [],
   "source": []
  }
 ],
 "metadata": {
  "kernelspec": {
   "display_name": "Python 3",
   "language": "python",
   "name": "python3"
  },
  "language_info": {
   "codemirror_mode": {
    "name": "ipython",
    "version": 3
   },
   "file_extension": ".py",
   "mimetype": "text/x-python",
   "name": "python",
   "nbconvert_exporter": "python",
   "pygments_lexer": "ipython3",
   "version": "3.7.10"
  }
 },
 "nbformat": 4,
 "nbformat_minor": 5
}
