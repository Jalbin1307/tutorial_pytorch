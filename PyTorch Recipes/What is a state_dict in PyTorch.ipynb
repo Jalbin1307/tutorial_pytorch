{
 "cells": [
  {
   "cell_type": "markdown",
   "id": "89ab54a2",
   "metadata": {},
   "source": [
    "```state_dict``` 는 간단히 말해 각 계층을 매개변수 텐서로 매핑되는 Python dict 객체이다.<br><br>\n",
    "## 개요\n",
    "```state_dict``` 는 PyTorch에서 모델을 저장하거나 불러오는 데 관심이 있다면 필수적인 항목이다. ```state_dict``` 객체는 Python 사전이기 때문에 쉽게 저장, 업데이트, 변경 및 복원할 수 있으며, 이는 PyTorch 모델과 옵티마이저에 모듈성(modularity)을 제공한다. 이 때, 학습 가능한 매개변수를 갖는 계층(합성공, 선형 계층 등) 및 등록된 버퍼들(batchnorm 의 running_mean)만 모델의 ```state_dict``` 항목을 가진다. <br>\n",
    "옵티마이저 객체 또한 옵티마이저의 상태뿐만 아니라 사용된 Hyperparameter) 정보가 포함된 ```state_dict```을 갖는다."
   ]
  },
  {
   "cell_type": "markdown",
   "id": "14a0dc78",
   "metadata": {},
   "source": [
    "## 단계\n",
    "1. 데이터를 불러올 때 필요한 모든 라이브러리 불러오기\n",
    "2. 신경망을 구성하고 초기화하기\n",
    "3. 옵티마이저 초기화하기\n",
    "4. 모델과 옵티마이저의 ```state_dict```접근하기\n",
    "\n",
    "<br>\n",
    "\n",
    "### 1. 데이터를 불러올 때 필요한 모든 라이브러리 불러오기"
   ]
  },
  {
   "cell_type": "code",
   "execution_count": 1,
   "id": "14ba0586",
   "metadata": {},
   "outputs": [],
   "source": [
    "import torch\n",
    "import torch.nn as nn\n",
    "import torch.optim as optim"
   ]
  },
  {
   "cell_type": "markdown",
   "id": "bbc1b710",
   "metadata": {},
   "source": [
    "### 2. 신경망을 구성하고 초기화하기"
   ]
  },
  {
   "cell_type": "code",
   "execution_count": 2,
   "id": "20fd32f1",
   "metadata": {},
   "outputs": [
    {
     "name": "stdout",
     "output_type": "stream",
     "text": [
      "Net(\n",
      "  (conv1): Conv2d(3, 6, kernel_size=(5, 5), stride=(1, 1))\n",
      "  (pool): MaxPool2d(kernel_size=2, stride=2, padding=0, dilation=1, ceil_mode=False)\n",
      "  (conv2): Conv2d(6, 16, kernel_size=(5, 5), stride=(1, 1))\n",
      "  (fc1): Linear(in_features=400, out_features=120, bias=True)\n",
      "  (fc2): Linear(in_features=120, out_features=84, bias=True)\n",
      "  (fc3): Linear(in_features=84, out_features=10, bias=True)\n",
      ")\n"
     ]
    }
   ],
   "source": [
    "class Net(nn.Module):\n",
    "    def __init__(self):\n",
    "        super(Net, self).__init__()\n",
    "        self.conv1 = nn.Conv2d(3, 6, 5)\n",
    "        self.pool = nn.MaxPool2d(2, 2)\n",
    "        self.conv2 = nn.Conv2d(6, 16, 5)\n",
    "        self.fc1 = nn.Linear(16 * 5 * 5, 120)\n",
    "        self.fc2 = nn.Linear(120, 84)\n",
    "        self.fc3 = nn.Linear(84, 10)\n",
    "        \n",
    "    def forward(self, x):\n",
    "        x = self.pool(F.relu(self.conv1(x)))\n",
    "        x = self.pool(F.relu(self.conv2(x)))\n",
    "        x = x.view(-1, 16 * 5 * 5)\n",
    "        x = F.relu(self.fc1(x))\n",
    "        x = F.relu(self.fc2(x))\n",
    "        x = self.fc3(x)\n",
    "        return x\n",
    "net = Net()\n",
    "print(net)"
   ]
  },
  {
   "cell_type": "markdown",
   "id": "0b6f93c8",
   "metadata": {},
   "source": [
    "### 3. 옵티마이저 초기화하기\n",
    "모멤텀(momentum)을 갖는 SGD를 사용"
   ]
  },
  {
   "cell_type": "code",
   "execution_count": 3,
   "id": "a507433e",
   "metadata": {},
   "outputs": [],
   "source": [
    "optimizer = optim.SGD(net.parameters(), lr=0.001, momentum=0.9)"
   ]
  },
  {
   "cell_type": "markdown",
   "id": "4cfc1514",
   "metadata": {},
   "source": [
    "### 4. 모델과 옵티마이저의 ```state_dict``` 접근하기\n",
    "이제 모델과 옵티마이저를 구성했으므로 각각의 ```state_dict```속성에 저장되어 있는 항목을 확인할 수 있다"
   ]
  },
  {
   "cell_type": "code",
   "execution_count": 4,
   "id": "6ef4003a",
   "metadata": {},
   "outputs": [
    {
     "name": "stdout",
     "output_type": "stream",
     "text": [
      "Model's state dict:\n",
      "conv1.weight \t torch.Size([6, 3, 5, 5])\n",
      "conv1.bias \t torch.Size([6])\n",
      "conv2.weight \t torch.Size([16, 6, 5, 5])\n",
      "conv2.bias \t torch.Size([16])\n",
      "fc1.weight \t torch.Size([120, 400])\n",
      "fc1.bias \t torch.Size([120])\n",
      "fc2.weight \t torch.Size([84, 120])\n",
      "fc2.bias \t torch.Size([84])\n",
      "fc3.weight \t torch.Size([10, 84])\n",
      "fc3.bias \t torch.Size([10])\n",
      "\n",
      "Optimizer's state_dict\n",
      "state \t {}\n",
      "param_groups \t [{'lr': 0.001, 'momentum': 0.9, 'dampening': 0, 'weight_decay': 0, 'nesterov': False, 'params': [0, 1, 2, 3, 4, 5, 6, 7, 8, 9]}]\n"
     ]
    }
   ],
   "source": [
    "# 모델의 state_dict 출력\n",
    "print(\"Model's state dict:\")\n",
    "for param_tensor in net.state_dict():\n",
    "    print(param_tensor, \"\\t\", net.state_dict()[param_tensor].size())\n",
    "    \n",
    "print()\n",
    "\n",
    "# 옵티마이저의 state_dict 출력\n",
    "print(\"Optimizer's state_dict\")\n",
    "for var_name in optimizer.state_dict():\n",
    "    print(var_name, \"\\t\", optimizer.state_dict()[var_name])"
   ]
  },
  {
   "cell_type": "markdown",
   "id": "d8cf2db6",
   "metadata": {},
   "source": [
    "이 정보는 향후 모델 및 옵티마이저를 저장하고 불러오는 것과 관련이 있다."
   ]
  }
 ],
 "metadata": {
  "kernelspec": {
   "display_name": "Python 3",
   "language": "python",
   "name": "python3"
  },
  "language_info": {
   "codemirror_mode": {
    "name": "ipython",
    "version": 3
   },
   "file_extension": ".py",
   "mimetype": "text/x-python",
   "name": "python",
   "nbconvert_exporter": "python",
   "pygments_lexer": "ipython3",
   "version": "3.7.10"
  }
 },
 "nbformat": 4,
 "nbformat_minor": 5
}
