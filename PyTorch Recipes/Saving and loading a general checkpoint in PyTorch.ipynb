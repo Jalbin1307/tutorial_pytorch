{
 "cells": [
  {
   "cell_type": "markdown",
   "id": "dc14a57b",
   "metadata": {},
   "source": [
    "## 개요\n",
    "여러 체크포인트들을 저장하기 위해서는 dictionary에 체크포인트들을 구성하고 ```torch.save()```를 사용하여 사전을 직렬화(serializer)해야한다. 일반적인 PyTorch에서는 이러한 여러 체크포인트들을 저장할 때 ```.tar``` 확장자를 사용하는 것이 일반적인 규칙이다. 항목들을 불러올 때는, 먼저 모델과 옵티마이저를 초기화하고 torch.load()를 사용하여 dictionary를 불러온다. 이후 원하는대로 저장한 항목들을 조회하여 접근할 수 있다."
   ]
  },
  {
   "cell_type": "markdown",
   "id": "d9a3eed9",
   "metadata": {},
   "source": [
    "## 단계\n",
    "1. 데이터를 불러올 때 필요한 라이브러리들 불러오기\n",
    "2. 신경망을 구성하고 초기화하기\n",
    "3. 옵티마이저 초기화하기\n",
    "4. 일반적인 체크포인트 저장하기\n",
    "5. 일반적인 체크포인트 불러오기"
   ]
  },
  {
   "cell_type": "markdown",
   "id": "58ce709e",
   "metadata": {},
   "source": [
    "### 1. 데이터를 불러올 때 필요한 라이브러리들 불러오기"
   ]
  },
  {
   "cell_type": "code",
   "execution_count": 1,
   "id": "6612a96e",
   "metadata": {},
   "outputs": [],
   "source": [
    "import torch\n",
    "import torch.nn as nn\n",
    "import torch.optim as optim"
   ]
  },
  {
   "cell_type": "markdown",
   "id": "c0eadb9f",
   "metadata": {},
   "source": [
    "### 2. 신경망을 구성하고 초기화하기"
   ]
  },
  {
   "cell_type": "code",
   "execution_count": 2,
   "id": "169b376f",
   "metadata": {},
   "outputs": [
    {
     "name": "stdout",
     "output_type": "stream",
     "text": [
      "Net(\n",
      "  (conv1): Conv2d(3, 6, kernel_size=(5, 5), stride=(1, 1))\n",
      "  (pool): MaxPool2d(kernel_size=2, stride=2, padding=0, dilation=1, ceil_mode=False)\n",
      "  (conv2): Conv2d(6, 16, kernel_size=(5, 5), stride=(1, 1))\n",
      "  (fc1): Linear(in_features=400, out_features=120, bias=True)\n",
      "  (fc2): Linear(in_features=120, out_features=84, bias=True)\n",
      "  (fc3): Linear(in_features=84, out_features=10, bias=True)\n",
      ")\n"
     ]
    }
   ],
   "source": [
    "class Net(nn.Module):\n",
    "    def __init__(self):\n",
    "        super(Net, self).__init__()\n",
    "        self.conv1 = nn.Conv2d(3, 6, 5)\n",
    "        self.pool = nn.MaxPool2d(2, 2)\n",
    "        self.conv2 = nn.Conv2d(6, 16, 5)\n",
    "        self.fc1 = nn.Linear(16 * 5 * 5, 120)\n",
    "        self.fc2 = nn.Linear(120, 84)\n",
    "        self.fc3 = nn.Linear(84, 10)\n",
    "        \n",
    "    def forward(self, x):\n",
    "        x = self.pool(F.relu(self.conv1(x)))\n",
    "        x = self.pool(F.relu(self.conv2(x)))\n",
    "        x = x.view(-1, 16 * 5 * 5)\n",
    "        x = F.relu(self.fc1(x))\n",
    "        x = F.relu(self.fc2(x))\n",
    "        x = self.fc3(x)\n",
    "        return x\n",
    "    \n",
    "net = Net()\n",
    "print(net)"
   ]
  },
  {
   "cell_type": "markdown",
   "id": "520902e7",
   "metadata": {},
   "source": [
    "### 3. 옵티마이저 초기화하기\n",
    "모멘텀(momentum)을 갖는 SGD를 사용"
   ]
  },
  {
   "cell_type": "code",
   "execution_count": 3,
   "id": "72c117ac",
   "metadata": {},
   "outputs": [],
   "source": [
    "optimizer = optim.SGD(net.parameters(), lr=0.001, momentum=0.9)"
   ]
  },
  {
   "cell_type": "markdown",
   "id": "e32fb782",
   "metadata": {},
   "source": [
    "### 4. 일반적인 체크포인트 저장하기\n",
    "관련된 모든 정보들을 모아서 사전을 구성한다."
   ]
  },
  {
   "cell_type": "code",
   "execution_count": 4,
   "id": "dc8d471b",
   "metadata": {},
   "outputs": [],
   "source": [
    "# 추가 정보\n",
    "EPOCH = 5\n",
    "PATH = \"model.pt\"\n",
    "LOSS = 0.4\n",
    "\n",
    "torch.save({\n",
    "    'epoch':EPOCH,\n",
    "    'model_state_dict':net.state_dict(),\n",
    "    'optimizer_state_dict':optimizer.state_dict(),\n",
    "    'loss':LOSS,\n",
    "    }, PATH)"
   ]
  },
  {
   "cell_type": "markdown",
   "id": "326ec186",
   "metadata": {},
   "source": [
    "### 5. 일반적인 체크포인트 불러오기\n",
    "먼저 모델과 옵티마이저를 초기화한 뒤, dictionary를 불러온다."
   ]
  },
  {
   "cell_type": "code",
   "execution_count": 5,
   "id": "aa5c3aa3",
   "metadata": {},
   "outputs": [
    {
     "data": {
      "text/plain": [
       "Net(\n",
       "  (conv1): Conv2d(3, 6, kernel_size=(5, 5), stride=(1, 1))\n",
       "  (pool): MaxPool2d(kernel_size=2, stride=2, padding=0, dilation=1, ceil_mode=False)\n",
       "  (conv2): Conv2d(6, 16, kernel_size=(5, 5), stride=(1, 1))\n",
       "  (fc1): Linear(in_features=400, out_features=120, bias=True)\n",
       "  (fc2): Linear(in_features=120, out_features=84, bias=True)\n",
       "  (fc3): Linear(in_features=84, out_features=10, bias=True)\n",
       ")"
      ]
     },
     "execution_count": 5,
     "metadata": {},
     "output_type": "execute_result"
    }
   ],
   "source": [
    "model = Net()\n",
    "optimizer = optim.SGD(net.parameters(), lr=0.001, momentum=0.9)\n",
    "\n",
    "checkpoint = torch.load(PATH)\n",
    "model.load_state_dict(checkpoint['model_state_dict'])\n",
    "optimizer.load_state_dict(checkpoint['optimizer_state_dict'])\n",
    "epoch = checkpoint['epoch']\n",
    "loss = checkpoint['loss']\n",
    "\n",
    "model.eval()\n",
    "# - 또는 -\n",
    "model.train()"
   ]
  },
  {
   "cell_type": "markdown",
   "id": "502cbed1",
   "metadata": {},
   "source": [
    "추론을 실행하기 전에 model.eval()을 호출하여 드롭아웃(dropout)과 배치 정규화 층을 evaluation 모드로 바꿔야한다. 이것을 빼먹으면 일관성 없는 추론 결과를 얻게 된다. <br>\n",
    "만약 학습을 계속하길 원한다면 ```model.train()```을 호출하여 이 층(layer)들이 학습 모드인지 ensure해야한다."
   ]
  },
  {
   "cell_type": "code",
   "execution_count": null,
   "id": "b232bf35",
   "metadata": {},
   "outputs": [],
   "source": []
  }
 ],
 "metadata": {
  "kernelspec": {
   "display_name": "Python 3",
   "language": "python",
   "name": "python3"
  },
  "language_info": {
   "codemirror_mode": {
    "name": "ipython",
    "version": 3
   },
   "file_extension": ".py",
   "mimetype": "text/x-python",
   "name": "python",
   "nbconvert_exporter": "python",
   "pygments_lexer": "ipython3",
   "version": "3.7.10"
  }
 },
 "nbformat": 4,
 "nbformat_minor": 5
}
